{
  "nbformat": 4,
  "nbformat_minor": 0,
  "metadata": {
    "colab": {
      "provenance": []
    },
    "kernelspec": {
      "name": "python3",
      "display_name": "Python 3"
    },
    "language_info": {
      "name": "python"
    }
  },
  "cells": [
    {
      "cell_type": "code",
      "execution_count": 55,
      "metadata": {
        "id": "WteexdZRTklX"
      },
      "outputs": [],
      "source": []
    },
    {
      "cell_type": "code",
      "source": [
        "from google.colab import drive\n",
        "drive.mount('/content/drive')"
      ],
      "metadata": {
        "colab": {
          "base_uri": "https://localhost:8080/"
        },
        "id": "Ily6IJgHToA5",
        "outputId": "e12732e8-6569-482e-a42a-1d6764a467d9"
      },
      "execution_count": 56,
      "outputs": [
        {
          "output_type": "stream",
          "name": "stdout",
          "text": [
            "Drive already mounted at /content/drive; to attempt to forcibly remount, call drive.mount(\"/content/drive\", force_remount=True).\n"
          ]
        }
      ]
    },
    {
      "cell_type": "markdown",
      "source": [
        "# Importação de bibliotecas"
      ],
      "metadata": {
        "id": "aNx4wZNJV7Ao"
      }
    },
    {
      "cell_type": "code",
      "source": [
        "import pandas as pd\n",
        "from sklearn.model_selection import train_test_split\n",
        "from sklearn.ensemble import RandomForestClassifier\n",
        "from sklearn.metrics import accuracy_score, classification_report\n",
        "from sklearn.preprocessing import LabelEncoder"
      ],
      "metadata": {
        "id": "V7gb7yhyT9rt"
      },
      "execution_count": 57,
      "outputs": []
    },
    {
      "cell_type": "code",
      "source": [
        "df = pd.read_csv('/content/drive/MyDrive/projetos/portoCase/resultado_select_exe1.csv', sep=';', on_bad_lines='warn')  # or 'error' to halt execution"
      ],
      "metadata": {
        "id": "TwgTl48NTw0m"
      },
      "execution_count": 58,
      "outputs": []
    },
    {
      "cell_type": "code",
      "source": [
        "df.head()"
      ],
      "metadata": {
        "colab": {
          "base_uri": "https://localhost:8080/",
          "height": 342
        },
        "id": "FiSelFNnUUze",
        "outputId": "e5695275-13ce-41dd-93be-83af61c6f675"
      },
      "execution_count": 59,
      "outputs": [
        {
          "output_type": "execute_result",
          "data": {
            "text/plain": [
              "   matricula  AnoMes_Formatted  leads  trabalhado  abordado  negociado  \\\n",
              "0    4400000            202101      4           4         4          4   \n",
              "1    4400000            202107     14          14        14          8   \n",
              "2    4400001            202102     12          12        12         12   \n",
              "3    4400001            202103     12          12        12          4   \n",
              "4    4400001            202109     14          14        14         12   \n",
              "\n",
              "   rec_orcamento  cotado  transm_bru  transm_liq  ...      %Cotado  \\\n",
              "0              2       2           0           0  ...          0,5   \n",
              "1              4       4           0           0  ...  0,285714286   \n",
              "2              2      10           2           2  ...  0,833333333   \n",
              "3              0       4           0           0  ...  0,333333333   \n",
              "4              4       8           0           0  ...  0,571428571   \n",
              "\n",
              "   %Conversão_Bruta  %Conversão_Líquida  %Eficiência AnoMes_Formatted:1  \\\n",
              "0                 0                   0            0             202101   \n",
              "1                 0                   0            0             202107   \n",
              "2               0,2                 0,2  0,166666667             202102   \n",
              "3                 0                   0            0             202103   \n",
              "4                 0                   0            0             202109   \n",
              "\n",
              "  monitoria sac tempo_logado     Status_Meta Operador_Sequencial  \n",
              "0       NaN NaN          NaN  abaixo da meta                   1  \n",
              "1       NaN NaN          NaN  abaixo da meta                   1  \n",
              "2       NaN NaN          NaN  abaixo da meta                   1  \n",
              "3       NaN NaN          NaN  abaixo da meta                   1  \n",
              "4       NaN NaN          NaN  abaixo da meta                   1  \n",
              "\n",
              "[5 rows x 28 columns]"
            ],
            "text/html": [
              "\n",
              "  <div id=\"df-7f8c2eff-2b43-4aa6-9519-4f0b9b135adf\" class=\"colab-df-container\">\n",
              "    <div>\n",
              "<style scoped>\n",
              "    .dataframe tbody tr th:only-of-type {\n",
              "        vertical-align: middle;\n",
              "    }\n",
              "\n",
              "    .dataframe tbody tr th {\n",
              "        vertical-align: top;\n",
              "    }\n",
              "\n",
              "    .dataframe thead th {\n",
              "        text-align: right;\n",
              "    }\n",
              "</style>\n",
              "<table border=\"1\" class=\"dataframe\">\n",
              "  <thead>\n",
              "    <tr style=\"text-align: right;\">\n",
              "      <th></th>\n",
              "      <th>matricula</th>\n",
              "      <th>AnoMes_Formatted</th>\n",
              "      <th>leads</th>\n",
              "      <th>trabalhado</th>\n",
              "      <th>abordado</th>\n",
              "      <th>negociado</th>\n",
              "      <th>rec_orcamento</th>\n",
              "      <th>cotado</th>\n",
              "      <th>transm_bru</th>\n",
              "      <th>transm_liq</th>\n",
              "      <th>...</th>\n",
              "      <th>%Cotado</th>\n",
              "      <th>%Conversão_Bruta</th>\n",
              "      <th>%Conversão_Líquida</th>\n",
              "      <th>%Eficiência</th>\n",
              "      <th>AnoMes_Formatted:1</th>\n",
              "      <th>monitoria</th>\n",
              "      <th>sac</th>\n",
              "      <th>tempo_logado</th>\n",
              "      <th>Status_Meta</th>\n",
              "      <th>Operador_Sequencial</th>\n",
              "    </tr>\n",
              "  </thead>\n",
              "  <tbody>\n",
              "    <tr>\n",
              "      <th>0</th>\n",
              "      <td>4400000</td>\n",
              "      <td>202101</td>\n",
              "      <td>4</td>\n",
              "      <td>4</td>\n",
              "      <td>4</td>\n",
              "      <td>4</td>\n",
              "      <td>2</td>\n",
              "      <td>2</td>\n",
              "      <td>0</td>\n",
              "      <td>0</td>\n",
              "      <td>...</td>\n",
              "      <td>0,5</td>\n",
              "      <td>0</td>\n",
              "      <td>0</td>\n",
              "      <td>0</td>\n",
              "      <td>202101</td>\n",
              "      <td>NaN</td>\n",
              "      <td>NaN</td>\n",
              "      <td>NaN</td>\n",
              "      <td>abaixo da meta</td>\n",
              "      <td>1</td>\n",
              "    </tr>\n",
              "    <tr>\n",
              "      <th>1</th>\n",
              "      <td>4400000</td>\n",
              "      <td>202107</td>\n",
              "      <td>14</td>\n",
              "      <td>14</td>\n",
              "      <td>14</td>\n",
              "      <td>8</td>\n",
              "      <td>4</td>\n",
              "      <td>4</td>\n",
              "      <td>0</td>\n",
              "      <td>0</td>\n",
              "      <td>...</td>\n",
              "      <td>0,285714286</td>\n",
              "      <td>0</td>\n",
              "      <td>0</td>\n",
              "      <td>0</td>\n",
              "      <td>202107</td>\n",
              "      <td>NaN</td>\n",
              "      <td>NaN</td>\n",
              "      <td>NaN</td>\n",
              "      <td>abaixo da meta</td>\n",
              "      <td>1</td>\n",
              "    </tr>\n",
              "    <tr>\n",
              "      <th>2</th>\n",
              "      <td>4400001</td>\n",
              "      <td>202102</td>\n",
              "      <td>12</td>\n",
              "      <td>12</td>\n",
              "      <td>12</td>\n",
              "      <td>12</td>\n",
              "      <td>2</td>\n",
              "      <td>10</td>\n",
              "      <td>2</td>\n",
              "      <td>2</td>\n",
              "      <td>...</td>\n",
              "      <td>0,833333333</td>\n",
              "      <td>0,2</td>\n",
              "      <td>0,2</td>\n",
              "      <td>0,166666667</td>\n",
              "      <td>202102</td>\n",
              "      <td>NaN</td>\n",
              "      <td>NaN</td>\n",
              "      <td>NaN</td>\n",
              "      <td>abaixo da meta</td>\n",
              "      <td>1</td>\n",
              "    </tr>\n",
              "    <tr>\n",
              "      <th>3</th>\n",
              "      <td>4400001</td>\n",
              "      <td>202103</td>\n",
              "      <td>12</td>\n",
              "      <td>12</td>\n",
              "      <td>12</td>\n",
              "      <td>4</td>\n",
              "      <td>0</td>\n",
              "      <td>4</td>\n",
              "      <td>0</td>\n",
              "      <td>0</td>\n",
              "      <td>...</td>\n",
              "      <td>0,333333333</td>\n",
              "      <td>0</td>\n",
              "      <td>0</td>\n",
              "      <td>0</td>\n",
              "      <td>202103</td>\n",
              "      <td>NaN</td>\n",
              "      <td>NaN</td>\n",
              "      <td>NaN</td>\n",
              "      <td>abaixo da meta</td>\n",
              "      <td>1</td>\n",
              "    </tr>\n",
              "    <tr>\n",
              "      <th>4</th>\n",
              "      <td>4400001</td>\n",
              "      <td>202109</td>\n",
              "      <td>14</td>\n",
              "      <td>14</td>\n",
              "      <td>14</td>\n",
              "      <td>12</td>\n",
              "      <td>4</td>\n",
              "      <td>8</td>\n",
              "      <td>0</td>\n",
              "      <td>0</td>\n",
              "      <td>...</td>\n",
              "      <td>0,571428571</td>\n",
              "      <td>0</td>\n",
              "      <td>0</td>\n",
              "      <td>0</td>\n",
              "      <td>202109</td>\n",
              "      <td>NaN</td>\n",
              "      <td>NaN</td>\n",
              "      <td>NaN</td>\n",
              "      <td>abaixo da meta</td>\n",
              "      <td>1</td>\n",
              "    </tr>\n",
              "  </tbody>\n",
              "</table>\n",
              "<p>5 rows × 28 columns</p>\n",
              "</div>\n",
              "    <div class=\"colab-df-buttons\">\n",
              "\n",
              "  <div class=\"colab-df-container\">\n",
              "    <button class=\"colab-df-convert\" onclick=\"convertToInteractive('df-7f8c2eff-2b43-4aa6-9519-4f0b9b135adf')\"\n",
              "            title=\"Convert this dataframe to an interactive table.\"\n",
              "            style=\"display:none;\">\n",
              "\n",
              "  <svg xmlns=\"http://www.w3.org/2000/svg\" height=\"24px\" viewBox=\"0 -960 960 960\">\n",
              "    <path d=\"M120-120v-720h720v720H120Zm60-500h600v-160H180v160Zm220 220h160v-160H400v160Zm0 220h160v-160H400v160ZM180-400h160v-160H180v160Zm440 0h160v-160H620v160ZM180-180h160v-160H180v160Zm440 0h160v-160H620v160Z\"/>\n",
              "  </svg>\n",
              "    </button>\n",
              "\n",
              "  <style>\n",
              "    .colab-df-container {\n",
              "      display:flex;\n",
              "      gap: 12px;\n",
              "    }\n",
              "\n",
              "    .colab-df-convert {\n",
              "      background-color: #E8F0FE;\n",
              "      border: none;\n",
              "      border-radius: 50%;\n",
              "      cursor: pointer;\n",
              "      display: none;\n",
              "      fill: #1967D2;\n",
              "      height: 32px;\n",
              "      padding: 0 0 0 0;\n",
              "      width: 32px;\n",
              "    }\n",
              "\n",
              "    .colab-df-convert:hover {\n",
              "      background-color: #E2EBFA;\n",
              "      box-shadow: 0px 1px 2px rgba(60, 64, 67, 0.3), 0px 1px 3px 1px rgba(60, 64, 67, 0.15);\n",
              "      fill: #174EA6;\n",
              "    }\n",
              "\n",
              "    .colab-df-buttons div {\n",
              "      margin-bottom: 4px;\n",
              "    }\n",
              "\n",
              "    [theme=dark] .colab-df-convert {\n",
              "      background-color: #3B4455;\n",
              "      fill: #D2E3FC;\n",
              "    }\n",
              "\n",
              "    [theme=dark] .colab-df-convert:hover {\n",
              "      background-color: #434B5C;\n",
              "      box-shadow: 0px 1px 3px 1px rgba(0, 0, 0, 0.15);\n",
              "      filter: drop-shadow(0px 1px 2px rgba(0, 0, 0, 0.3));\n",
              "      fill: #FFFFFF;\n",
              "    }\n",
              "  </style>\n",
              "\n",
              "    <script>\n",
              "      const buttonEl =\n",
              "        document.querySelector('#df-7f8c2eff-2b43-4aa6-9519-4f0b9b135adf button.colab-df-convert');\n",
              "      buttonEl.style.display =\n",
              "        google.colab.kernel.accessAllowed ? 'block' : 'none';\n",
              "\n",
              "      async function convertToInteractive(key) {\n",
              "        const element = document.querySelector('#df-7f8c2eff-2b43-4aa6-9519-4f0b9b135adf');\n",
              "        const dataTable =\n",
              "          await google.colab.kernel.invokeFunction('convertToInteractive',\n",
              "                                                    [key], {});\n",
              "        if (!dataTable) return;\n",
              "\n",
              "        const docLinkHtml = 'Like what you see? Visit the ' +\n",
              "          '<a target=\"_blank\" href=https://colab.research.google.com/notebooks/data_table.ipynb>data table notebook</a>'\n",
              "          + ' to learn more about interactive tables.';\n",
              "        element.innerHTML = '';\n",
              "        dataTable['output_type'] = 'display_data';\n",
              "        await google.colab.output.renderOutput(dataTable, element);\n",
              "        const docLink = document.createElement('div');\n",
              "        docLink.innerHTML = docLinkHtml;\n",
              "        element.appendChild(docLink);\n",
              "      }\n",
              "    </script>\n",
              "  </div>\n",
              "\n",
              "\n",
              "<div id=\"df-d1688fd0-029f-4a35-bfaf-ad5836c90f8a\">\n",
              "  <button class=\"colab-df-quickchart\" onclick=\"quickchart('df-d1688fd0-029f-4a35-bfaf-ad5836c90f8a')\"\n",
              "            title=\"Suggest charts\"\n",
              "            style=\"display:none;\">\n",
              "\n",
              "<svg xmlns=\"http://www.w3.org/2000/svg\" height=\"24px\"viewBox=\"0 0 24 24\"\n",
              "     width=\"24px\">\n",
              "    <g>\n",
              "        <path d=\"M19 3H5c-1.1 0-2 .9-2 2v14c0 1.1.9 2 2 2h14c1.1 0 2-.9 2-2V5c0-1.1-.9-2-2-2zM9 17H7v-7h2v7zm4 0h-2V7h2v10zm4 0h-2v-4h2v4z\"/>\n",
              "    </g>\n",
              "</svg>\n",
              "  </button>\n",
              "\n",
              "<style>\n",
              "  .colab-df-quickchart {\n",
              "      --bg-color: #E8F0FE;\n",
              "      --fill-color: #1967D2;\n",
              "      --hover-bg-color: #E2EBFA;\n",
              "      --hover-fill-color: #174EA6;\n",
              "      --disabled-fill-color: #AAA;\n",
              "      --disabled-bg-color: #DDD;\n",
              "  }\n",
              "\n",
              "  [theme=dark] .colab-df-quickchart {\n",
              "      --bg-color: #3B4455;\n",
              "      --fill-color: #D2E3FC;\n",
              "      --hover-bg-color: #434B5C;\n",
              "      --hover-fill-color: #FFFFFF;\n",
              "      --disabled-bg-color: #3B4455;\n",
              "      --disabled-fill-color: #666;\n",
              "  }\n",
              "\n",
              "  .colab-df-quickchart {\n",
              "    background-color: var(--bg-color);\n",
              "    border: none;\n",
              "    border-radius: 50%;\n",
              "    cursor: pointer;\n",
              "    display: none;\n",
              "    fill: var(--fill-color);\n",
              "    height: 32px;\n",
              "    padding: 0;\n",
              "    width: 32px;\n",
              "  }\n",
              "\n",
              "  .colab-df-quickchart:hover {\n",
              "    background-color: var(--hover-bg-color);\n",
              "    box-shadow: 0 1px 2px rgba(60, 64, 67, 0.3), 0 1px 3px 1px rgba(60, 64, 67, 0.15);\n",
              "    fill: var(--button-hover-fill-color);\n",
              "  }\n",
              "\n",
              "  .colab-df-quickchart-complete:disabled,\n",
              "  .colab-df-quickchart-complete:disabled:hover {\n",
              "    background-color: var(--disabled-bg-color);\n",
              "    fill: var(--disabled-fill-color);\n",
              "    box-shadow: none;\n",
              "  }\n",
              "\n",
              "  .colab-df-spinner {\n",
              "    border: 2px solid var(--fill-color);\n",
              "    border-color: transparent;\n",
              "    border-bottom-color: var(--fill-color);\n",
              "    animation:\n",
              "      spin 1s steps(1) infinite;\n",
              "  }\n",
              "\n",
              "  @keyframes spin {\n",
              "    0% {\n",
              "      border-color: transparent;\n",
              "      border-bottom-color: var(--fill-color);\n",
              "      border-left-color: var(--fill-color);\n",
              "    }\n",
              "    20% {\n",
              "      border-color: transparent;\n",
              "      border-left-color: var(--fill-color);\n",
              "      border-top-color: var(--fill-color);\n",
              "    }\n",
              "    30% {\n",
              "      border-color: transparent;\n",
              "      border-left-color: var(--fill-color);\n",
              "      border-top-color: var(--fill-color);\n",
              "      border-right-color: var(--fill-color);\n",
              "    }\n",
              "    40% {\n",
              "      border-color: transparent;\n",
              "      border-right-color: var(--fill-color);\n",
              "      border-top-color: var(--fill-color);\n",
              "    }\n",
              "    60% {\n",
              "      border-color: transparent;\n",
              "      border-right-color: var(--fill-color);\n",
              "    }\n",
              "    80% {\n",
              "      border-color: transparent;\n",
              "      border-right-color: var(--fill-color);\n",
              "      border-bottom-color: var(--fill-color);\n",
              "    }\n",
              "    90% {\n",
              "      border-color: transparent;\n",
              "      border-bottom-color: var(--fill-color);\n",
              "    }\n",
              "  }\n",
              "</style>\n",
              "\n",
              "  <script>\n",
              "    async function quickchart(key) {\n",
              "      const quickchartButtonEl =\n",
              "        document.querySelector('#' + key + ' button');\n",
              "      quickchartButtonEl.disabled = true;  // To prevent multiple clicks.\n",
              "      quickchartButtonEl.classList.add('colab-df-spinner');\n",
              "      try {\n",
              "        const charts = await google.colab.kernel.invokeFunction(\n",
              "            'suggestCharts', [key], {});\n",
              "      } catch (error) {\n",
              "        console.error('Error during call to suggestCharts:', error);\n",
              "      }\n",
              "      quickchartButtonEl.classList.remove('colab-df-spinner');\n",
              "      quickchartButtonEl.classList.add('colab-df-quickchart-complete');\n",
              "    }\n",
              "    (() => {\n",
              "      let quickchartButtonEl =\n",
              "        document.querySelector('#df-d1688fd0-029f-4a35-bfaf-ad5836c90f8a button');\n",
              "      quickchartButtonEl.style.display =\n",
              "        google.colab.kernel.accessAllowed ? 'block' : 'none';\n",
              "    })();\n",
              "  </script>\n",
              "</div>\n",
              "\n",
              "    </div>\n",
              "  </div>\n"
            ],
            "application/vnd.google.colaboratory.intrinsic+json": {
              "type": "dataframe",
              "variable_name": "df"
            }
          },
          "metadata": {},
          "execution_count": 59
        }
      ]
    },
    {
      "cell_type": "code",
      "source": [
        "df.info()"
      ],
      "metadata": {
        "colab": {
          "base_uri": "https://localhost:8080/"
        },
        "id": "yA61vpszcr26",
        "outputId": "34440990-e0f5-4423-d8d8-441e3bc77430"
      },
      "execution_count": 71,
      "outputs": [
        {
          "output_type": "stream",
          "name": "stdout",
          "text": [
            "<class 'pandas.core.frame.DataFrame'>\n",
            "RangeIndex: 1827 entries, 0 to 1826\n",
            "Data columns (total 28 columns):\n",
            " #   Column               Non-Null Count  Dtype  \n",
            "---  ------               --------------  -----  \n",
            " 0   matricula            1827 non-null   int64  \n",
            " 1   AnoMes_Formatted     1827 non-null   int64  \n",
            " 2   leads                1827 non-null   int64  \n",
            " 3   trabalhado           1827 non-null   int64  \n",
            " 4   abordado             1827 non-null   int64  \n",
            " 5   negociado            1827 non-null   int64  \n",
            " 6   rec_orcamento        1827 non-null   int64  \n",
            " 7   cotado               1827 non-null   int64  \n",
            " 8   transm_bru           1827 non-null   int64  \n",
            " 9   transm_liq           1827 non-null   int64  \n",
            " 10  rec_canc_transm      1827 non-null   int64  \n",
            " 11  premio_transm        1827 non-null   int64  \n",
            " 12  premio_rec_canc      1827 non-null   int64  \n",
            " 13  premio_emi           1827 non-null   int64  \n",
            " 14  ticket_med_bru       1827 non-null   object \n",
            " 15  ticket_med_lid       1827 non-null   object \n",
            " 16  %Trabalhado          1827 non-null   object \n",
            " 17  %Abordado            1827 non-null   object \n",
            " 18  %Cotado              1827 non-null   object \n",
            " 19  %Conversão_Bruta     1827 non-null   object \n",
            " 20  %Conversão_Líquida   1827 non-null   object \n",
            " 21  %Eficiência          1827 non-null   object \n",
            " 22  AnoMes_Formatted:1   1827 non-null   int64  \n",
            " 23  monitoria            1275 non-null   float64\n",
            " 24  sac                  1275 non-null   float64\n",
            " 25  tempo_logado         1275 non-null   float64\n",
            " 26  Status_Meta          1827 non-null   object \n",
            " 27  Operador_Sequencial  1827 non-null   int64  \n",
            "dtypes: float64(3), int64(16), object(9)\n",
            "memory usage: 399.8+ KB\n"
          ]
        }
      ]
    },
    {
      "cell_type": "markdown",
      "source": [
        "# Pré-processamento dos dados\n"
      ],
      "metadata": {
        "id": "bagW8HOrV22d"
      }
    },
    {
      "cell_type": "code",
      "source": [
        "# Remover colunas que não são relevantes para o modelo\n",
        "data = df.drop(columns=['matricula', 'AnoMes_Formatted', 'monitoria', 'sac', 'tempo_logado', 'Operador_Sequencial'])\n"
      ],
      "metadata": {
        "id": "dxNXIZALV4Et"
      },
      "execution_count": 60,
      "outputs": []
    },
    {
      "cell_type": "code",
      "source": [
        "# Tratar valores nulos, se houver\n",
        "data = data.fillna(0)"
      ],
      "metadata": {
        "id": "R66oiMdlWI-8"
      },
      "execution_count": 61,
      "outputs": []
    },
    {
      "cell_type": "code",
      "source": [
        "# Converter variáveis categóricas em numéricas (se necessário)\n",
        "label_encoder = LabelEncoder()\n",
        "data['Status_Meta'] = label_encoder.fit_transform(data['Status_Meta'])"
      ],
      "metadata": {
        "id": "aXH7BgnVWNZo"
      },
      "execution_count": 62,
      "outputs": []
    },
    {
      "cell_type": "code",
      "source": [
        "# Listar as colunas que contêm números como strings com vírgula decimal\n",
        "num_cols = ['%Trabalhado', '%Abordado', '%Cotado', '%Conversão_Bruta', '%Conversão_Líquida', '%Eficiência']\n",
        "\n",
        "# Converter essas colunas para float, substituindo vírgulas por pontos, mas somente se forem do tipo object\n",
        "for col in num_cols:\n",
        "    if data[col].dtype == 'object':\n",
        "        data[col] = data[col].str.replace(',', '.').astype(float)"
      ],
      "metadata": {
        "id": "DSBTDvwYWeeF"
      },
      "execution_count": 63,
      "outputs": []
    },
    {
      "cell_type": "code",
      "source": [
        "# Definir as variáveis independentes (X) e dependente (y)\n",
        "X = data[['leads', 'trabalhado', 'abordado', 'rec_orcamento', 'cotado', 'transm_bru', 'transm_liq', 'premio_transm', '%Trabalhado', '%Abordado', '%Cotado']]\n",
        "y = data['negociado']"
      ],
      "metadata": {
        "id": "-pCqljFDW1T2"
      },
      "execution_count": 64,
      "outputs": []
    },
    {
      "cell_type": "code",
      "source": [
        "# Dividir os dados em conjuntos de treino e teste (80% treino, 20% teste)\n",
        "X_train, X_test, y_train, y_test = train_test_split(X, y, test_size=0.2, random_state=42)\n"
      ],
      "metadata": {
        "id": "gaYOVwOJW4By"
      },
      "execution_count": 65,
      "outputs": []
    },
    {
      "cell_type": "markdown",
      "source": [
        "# Modelos de Análise Preditivas"
      ],
      "metadata": {
        "id": "2XCkke1rcfae"
      }
    },
    {
      "cell_type": "code",
      "source": [
        "from sklearn.model_selection import GridSearchCV\n",
        "from sklearn.ensemble import RandomForestRegressor\n",
        "\n",
        "# Definir o modelo base\n",
        "rf = RandomForestRegressor(random_state=42)\n",
        "\n",
        "# Definir os parâmetros para ajuste\n",
        "param_grid = {\n",
        "    'n_estimators': [100, 200, 300],\n",
        "    'max_depth': [None, 10, 20, 30],\n",
        "    'min_samples_split': [2, 5, 10]\n",
        "}\n",
        "\n",
        "# Configurar o GridSearchCV\n",
        "grid_search = GridSearchCV(estimator=rf, param_grid=param_grid, cv=5, n_jobs=-1, scoring='neg_mean_squared_error')\n",
        "\n",
        "# Treinar com os dados de treino\n",
        "grid_search.fit(X_train, y_train)\n",
        "\n",
        "# Melhor conjunto de hiperparâmetros encontrados\n",
        "print(f\"Melhores parâmetros: {grid_search.best_params_}\")\n",
        "\n",
        "# Avaliar o modelo otimizado\n",
        "best_rf = grid_search.best_estimator_\n",
        "y_pred_rf = best_rf.predict(X_test)\n",
        "\n",
        "# Avaliar o desempenho do modelo\n",
        "from sklearn.metrics import mean_squared_error, r2_score\n",
        "mse_rf = mean_squared_error(y_test, y_pred_rf)\n",
        "r2_rf = r2_score(y_test, y_pred_rf)\n",
        "print(f\"Random Forest - MSE: {mse_rf}, R²: {r2_rf}\")\n"
      ],
      "metadata": {
        "colab": {
          "base_uri": "https://localhost:8080/"
        },
        "id": "vRZfyjJ5YyAr",
        "outputId": "ea00ea9b-75aa-4f1b-d685-948df15fe665"
      },
      "execution_count": 66,
      "outputs": [
        {
          "output_type": "stream",
          "name": "stdout",
          "text": [
            "Melhores parâmetros: {'max_depth': None, 'min_samples_split': 2, 'n_estimators': 200}\n",
            "Random Forest - MSE: 0.4289688524590162, R²: 0.9902190654087254\n"
          ]
        }
      ]
    },
    {
      "cell_type": "code",
      "source": [
        "from sklearn.linear_model import LogisticRegression\n",
        "from sklearn.preprocessing import StandardScaler\n",
        "\n",
        "# Padronizar os dados (requisito para Logistic Regression)\n",
        "scaler = StandardScaler()\n",
        "X_train_scaled = scaler.fit_transform(X_train)\n",
        "X_test_scaled = scaler.transform(X_test)\n",
        "\n",
        "# Configurar e treinar o modelo Logistic Regression\n",
        "logreg = LogisticRegression(max_iter=1000)\n",
        "logreg.fit(X_train_scaled, y_train)\n",
        "\n",
        "# Prever e avaliar\n",
        "y_pred_logreg = logreg.predict(X_test_scaled)\n",
        "mse_logreg = mean_squared_error(y_test, y_pred_logreg)\n",
        "r2_logreg = r2_score(y_test, y_pred_logreg)\n",
        "print(f\"Logistic Regression - MSE: {mse_logreg}, R²: {r2_logreg}\")\n"
      ],
      "metadata": {
        "colab": {
          "base_uri": "https://localhost:8080/"
        },
        "id": "22fPJk5IY0ft",
        "outputId": "b07c303c-30dd-48b4-e2e5-d22115868333"
      },
      "execution_count": 67,
      "outputs": [
        {
          "output_type": "stream",
          "name": "stdout",
          "text": [
            "Logistic Regression - MSE: 2.120218579234973, R²: 0.951656818149323\n"
          ]
        }
      ]
    },
    {
      "cell_type": "code",
      "source": [
        "import xgboost as xgb\n",
        "\n",
        "# Configurar e treinar o modelo XGBoost\n",
        "xg_reg = xgb.XGBRegressor(objective='reg:squarederror', n_estimators=100, seed=42)\n",
        "xg_reg.fit(X_train, y_train)\n",
        "\n",
        "# Prever e avaliar\n",
        "y_pred_xgb = xg_reg.predict(X_test)\n",
        "mse_xgb = mean_squared_error(y_test, y_pred_xgb)\n",
        "r2_xgb = r2_score(y_test, y_pred_xgb)\n",
        "print(f\"XGBoost - MSE: {mse_xgb}, R²: {r2_xgb}\")"
      ],
      "metadata": {
        "colab": {
          "base_uri": "https://localhost:8080/"
        },
        "id": "m2kYPr0LZf40",
        "outputId": "5281af7f-6a09-4345-d930-58e73d67d1c6"
      },
      "execution_count": 68,
      "outputs": [
        {
          "output_type": "stream",
          "name": "stdout",
          "text": [
            "XGBoost - MSE: 0.22881534521070476, R²: 0.9947827458381653\n"
          ]
        }
      ]
    },
    {
      "cell_type": "code",
      "source": [
        "!pip install ace_tools"
      ],
      "metadata": {
        "colab": {
          "base_uri": "https://localhost:8080/"
        },
        "id": "cyNnZaEwaIPW",
        "outputId": "c4b7fb8a-1253-4cf7-950f-96cfcd6aba3a"
      },
      "execution_count": 69,
      "outputs": [
        {
          "output_type": "stream",
          "name": "stdout",
          "text": [
            "Requirement already satisfied: ace_tools in /usr/local/lib/python3.10/dist-packages (0.0)\n"
          ]
        }
      ]
    },
    {
      "source": [
        "import pandas as pd\n",
        "\n",
        "model_results = {\n",
        "    'Model': ['Random Forest (GridSearchCV)', 'Logistic Regression', 'XGBoost'],\n",
        "    'MSE': [mse_rf, mse_logreg, mse_xgb],  # Simulated MSE values for illustration\n",
        "    'R²': [r2_rf, r2_logreg, r2_xgb]  # Simulated R² values for illustration\n",
        "}\n",
        "\n",
        "# Criar um DataFrame para exibir os resultados\n",
        "results_df = pd.DataFrame(model_results)\n",
        "\n",
        "# Display the DataFrame directly using pandas.\n",
        "# The ace_tools module is likely not a standard package and may be unavailable.\n",
        "print(\"Model Comparison Results:\")\n",
        "print(results_df)"
      ],
      "cell_type": "code",
      "metadata": {
        "colab": {
          "base_uri": "https://localhost:8080/"
        },
        "id": "7wp4RH2laZKy",
        "outputId": "1672f540-775b-41b2-a0a6-6ac892e1ef11"
      },
      "execution_count": 70,
      "outputs": [
        {
          "output_type": "stream",
          "name": "stdout",
          "text": [
            "Model Comparison Results:\n",
            "                          Model       MSE        R²\n",
            "0  Random Forest (GridSearchCV)  0.428969  0.990219\n",
            "1           Logistic Regression  2.120219  0.951657\n",
            "2                       XGBoost  0.228815  0.994783\n"
          ]
        }
      ]
    }
  ]
}